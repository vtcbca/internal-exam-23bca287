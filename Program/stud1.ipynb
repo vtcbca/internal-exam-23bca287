{
 "cells": [
  {
   "cell_type": "markdown",
   "id": "1852fcb6-6669-4984-8f5b-590f73eb85c2",
   "metadata": {},
   "source": [
    "### Create table stud(id, name, dept, paidfee) with 8 records. Create stud.csv file of the stud data (Department will be BBA and BCA).\n",
    "### Read csv file using reader object and write data with remaining fee. ( Total fee of bba is 13400 and bca is 15400 Rs)"
   ]
  },
  {
   "cell_type": "code",
   "execution_count": 1,
   "id": "f1ee6806-e2e8-439d-bbb6-5c39d5523f5c",
   "metadata": {},
   "outputs": [],
   "source": [
    "from csv import reader"
   ]
  },
  {
   "cell_type": "code",
   "execution_count": 2,
   "id": "e1b06598-73df-4403-b9e9-727b6340b973",
   "metadata": {},
   "outputs": [
    {
     "name": "stdout",
     "output_type": "stream",
     "text": [
      "['sid', 'sname', 'dept', 'paidfee']\n",
      "['101', 'jay', 'bca', '13000']\n",
      "['102', 'parth', 'bba', '9000']\n",
      "['103', 'vikas', 'bca', '6000']\n",
      "['104', 'sahil', 'bba', '12000']\n",
      "['105', 'yash', 'bca', '12400']\n",
      "['106', 'vishal', 'bba', '10400']\n",
      "['107', 'darshit', 'bca', '8000']\n",
      "['108', 'krunal', 'bba', '11400']\n"
     ]
    }
   ],
   "source": [
    "with open(\"D:\\\\23bca287\\\\sqlite-tools-win-x64-3460000\\\\csv\\\\stud.csv\",\"r\")as f:\n",
    "    l=reader(f)\n",
    "    for row in l:\n",
    "        print(row)"
   ]
  },
  {
   "cell_type": "code",
   "execution_count": null,
   "id": "38ec9dbf-ff96-4218-abff-f56b020d35b9",
   "metadata": {},
   "outputs": [],
   "source": []
  }
 ],
 "metadata": {
  "kernelspec": {
   "display_name": "Python 3 (ipykernel)",
   "language": "python",
   "name": "python3"
  },
  "language_info": {
   "codemirror_mode": {
    "name": "ipython",
    "version": 3
   },
   "file_extension": ".py",
   "mimetype": "text/x-python",
   "name": "python",
   "nbconvert_exporter": "python",
   "pygments_lexer": "ipython3",
   "version": "3.12.4"
  }
 },
 "nbformat": 4,
 "nbformat_minor": 5
}
